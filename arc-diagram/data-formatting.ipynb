{
 "cells": [
  {
   "cell_type": "code",
   "execution_count": 2,
   "id": "35fafb92-23f1-4dd0-b9d1-6cdfb338ee21",
   "metadata": {},
   "outputs": [
    {
     "name": "stdout",
     "output_type": "stream",
     "text": [
      "{'from': 'Anna', 'to': 'Bulda', 'value': 4},\n",
      "{'from': 'Anna', 'to': 'Duke', 'value': 14},\n",
      "{'from': 'Anna', 'to': 'Elsa', 'value': 111},\n",
      "{'from': 'Anna', 'to': 'Gerda', 'value': 3},\n",
      "{'from': 'Anna', 'to': 'Grand Pabbie', 'value': 3},\n",
      "{'from': 'Anna', 'to': 'Hans', 'value': 82},\n",
      "{'from': 'Anna', 'to': 'Kai', 'value': 11},\n",
      "{'from': 'Anna', 'to': 'King', 'value': 1},\n",
      "{'from': 'Anna', 'to': 'Kristoff', 'value': 199},\n",
      "{'from': 'Anna', 'to': 'Marshmallow', 'value': 5},\n",
      "{'from': 'Anna', 'to': 'Oaken', 'value': 6},\n",
      "{'from': 'Anna', 'to': 'Olaf', 'value': 82},\n",
      "{'from': 'Anna', 'to': 'Queen', 'value': 1},\n",
      "{'from': 'Bulda', 'to': 'Kristoff', 'value': 2},\n",
      "{'from': 'Duke', 'to': 'Elsa', 'value': 5},\n",
      "{'from': 'Duke', 'to': 'Hans', 'value': 15},\n",
      "{'from': 'Duke', 'to': 'Kai', 'value': 3},\n",
      "{'from': 'Elsa', 'to': 'Grand Pabbie', 'value': 2},\n",
      "{'from': 'Elsa', 'to': 'Hans', 'value': 17},\n",
      "{'from': 'Elsa', 'to': 'Kai', 'value': 1},\n",
      "{'from': 'Elsa', 'to': 'King', 'value': 9},\n",
      "{'from': 'Elsa', 'to': 'Olaf', 'value': 7},\n",
      "{'from': 'Elsa', 'to': 'Queen', 'value': 2},\n",
      "{'from': 'Gerda', 'to': 'Hans', 'value': 2},\n",
      "{'from': 'Gerda', 'to': 'Kristoff', 'value': 2},\n",
      "{'from': 'Grand Pabbie', 'to': 'King', 'value': 6},\n",
      "{'from': 'Grand Pabbie', 'to': 'Kristoff', 'value': 5},\n",
      "{'from': 'Grand Pabbie', 'to': 'Queen', 'value': 2},\n",
      "{'from': 'Hans', 'to': 'Kai', 'value': 1},\n",
      "{'from': 'Hans', 'to': 'Marshmallow', 'value': 1},\n",
      "{'from': 'Kai', 'to': 'Kristoff', 'value': 3},\n",
      "{'from': 'King', 'to': 'Queen', 'value': 2},\n",
      "{'from': 'Kristoff', 'to': 'Marshmallow', 'value': 2},\n",
      "{'from': 'Kristoff', 'to': 'Oaken', 'value': 13},\n",
      "{'from': 'Kristoff', 'to': 'Olaf', 'value': 34},\n",
      "{'from': 'Marshmallow', 'to': 'Olaf', 'value': 3},\n"
     ]
    }
   ],
   "source": [
    "import pandas as pd\n",
    "\n",
    "data = pd.read_csv('frozen.csv')\n",
    "\n",
    "for idx, row in data.iterrows():\n",
    "    n1, n2, freq = row\n",
    "    print(str({\"from\": n1, \"to\": n2, \"value\": freq}) + \",\")"
   ]
  }
 ],
 "metadata": {
  "kernelspec": {
   "display_name": "Python 3 (ipykernel)",
   "language": "python",
   "name": "python3"
  },
  "language_info": {
   "codemirror_mode": {
    "name": "ipython",
    "version": 3
   },
   "file_extension": ".py",
   "mimetype": "text/x-python",
   "name": "python",
   "nbconvert_exporter": "python",
   "pygments_lexer": "ipython3",
   "version": "3.10.13"
  }
 },
 "nbformat": 4,
 "nbformat_minor": 5
}
